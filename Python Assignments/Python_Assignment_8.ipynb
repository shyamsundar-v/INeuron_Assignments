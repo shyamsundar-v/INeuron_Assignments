{
 "cells": [
  {
   "cell_type": "code",
   "execution_count": null,
   "id": "c58da4ea",
   "metadata": {},
   "outputs": [],
   "source": [
    "1. In Python, what is the difference between a built-in function and a user-defined function? Provide an\n",
    "example of each.\n",
    "\n",
    "Ans) Python provides a lot of built-in functions that ease the writing of code suns as abs(),\n",
    "all().sum(),min(),max() etc.where as user defined function is a set of statements that take inputs,\n",
    "do some specific computation and produce output. The idea is to put some commonly or repeatedly done tasks together ."
   ]
  },
  {
   "cell_type": "code",
   "execution_count": null,
   "id": "cf199e96",
   "metadata": {},
   "outputs": [],
   "source": [
    "2. How can you pass arguments to a function in Python? Explain the difference between positional\n",
    "arguments and keyword arguments.\n",
    "\n",
    "Ans)Positional arguments: pass the arguments in the same order as the parameters of the function.\n",
    "Keyword arguments: pass the arguments as name-value pairs, regardless of the order of the parameters."
   ]
  },
  {
   "cell_type": "code",
   "execution_count": null,
   "id": "454a12dc",
   "metadata": {},
   "outputs": [],
   "source": [
    "3. What is the purpose of the return statement in a function? Can a function have multiple return\n",
    "statements? Explain with an example.\n",
    "\n",
    "\n",
    "Ans) Retuen statement return/print the out of the function and any function can have multiple \n",
    "return statements."
   ]
  },
  {
   "cell_type": "code",
   "execution_count": null,
   "id": "721de12c",
   "metadata": {},
   "outputs": [],
   "source": [
    "4. What are lambda functions in Python? How are they different from regular functions? Provide an\n",
    "example where a lambda function can be useful\n",
    "\n",
    "Ans) Lambda functions are similar to user-defined functions but without a name. \n",
    "They're commonly referred to as anonymous functions."
   ]
  },
  {
   "cell_type": "code",
   "execution_count": 6,
   "id": "8bd7ea7a",
   "metadata": {},
   "outputs": [
    {
     "name": "stdout",
     "output_type": "stream",
     "text": [
      "[2, 4, 6, 8, 10]\n"
     ]
    }
   ],
   "source": [
    "# user defined function\n",
    "l = [1, 2, 3, 4, 5, 6, 7, 8, 9, 10]\n",
    "l1=[]\n",
    "def even(l):\n",
    "    for i in l:\n",
    "        if i%2==0:\n",
    "           l1.append(i)\n",
    "    print(l1)\n",
    "    \n",
    "even(l)"
   ]
  },
  {
   "cell_type": "code",
   "execution_count": 8,
   "id": "abe2c1ba",
   "metadata": {},
   "outputs": [
    {
     "name": "stdout",
     "output_type": "stream",
     "text": [
      "[2, 4, 6, 8, 10]\n"
     ]
    }
   ],
   "source": [
    "#lambda fun\n",
    "l = [1, 2, 3, 4, 5, 6, 7, 8, 9, 10]\n",
    "\n",
    "a= list(filter(lambda x:x%2==0,l))\n",
    "print(a)"
   ]
  },
  {
   "cell_type": "code",
   "execution_count": null,
   "id": "18fa776b",
   "metadata": {},
   "outputs": [],
   "source": [
    "5. How does the concept of \"scope\" apply to functions in Python? Explain the difference between local\n",
    "scope and global scope.\n",
    "\n",
    "Ans)Local: If you refer to x inside a function, then the interpreter first searches for it in \n",
    "    the innermost scope that’s local to that function.\n",
    "\n",
    "Global: If neither of the above searches is fruitful, then the interpreter looks in the global scope\n",
    "    next(outside the function)"
   ]
  },
  {
   "cell_type": "code",
   "execution_count": null,
   "id": "7a3b17f9",
   "metadata": {},
   "outputs": [],
   "source": [
    "#\n",
    "\n",
    "def get_demo_data(object_type):\n",
    "    if 'str' == object_type:\n",
    "        return 'test'\n",
    "    elif 'tuple' == object_type:\n",
    "        return (1, 2, 3)\n",
    "    elif 'list' == object_type:\n",
    "        return [1, 2, 3]\n",
    "    elif 'dict' == object_type:\n",
    "        return {\"1\": 1, \"2\": 2, \"3\": 3}\n",
    "    else:\n",
    "        return None"
   ]
  },
  {
   "cell_type": "code",
   "execution_count": null,
   "id": "69694109",
   "metadata": {},
   "outputs": [],
   "source": [
    "7. What is the difference between the \"pass by value\" and \"pass by reference\" concepts when it\n",
    "comes to function arguments in Python?\n",
    "\n",
    "Ans)Pass by reference – It is used in some programming languages, where values to the argument \n",
    "of the function are passed by reference which means that the address of the variable is passed \n",
    "and then the operation is done on the value stored at these addresses.\n",
    "\n",
    "Pass by value – It means that the value is directly passed as the value to the argument of the \n",
    "function. Here, the operation is done on the value and then the value is stored at the address. \n",
    "Pass by value is used for a copy of the variable."
   ]
  },
  {
   "cell_type": "code",
   "execution_count": 10,
   "id": "3ea486f7",
   "metadata": {},
   "outputs": [
    {
     "name": "stdout",
     "output_type": "stream",
     "text": [
      "Inside the function {'Jim': 12, 'Anna': 14, 'Preet': 10, 'Sam': 20, 'Steve': 21}\n",
      "Outside the function: {'Jim': 12, 'Anna': 14, 'Preet': 10, 'Sam': 20, 'Steve': 21}\n"
     ]
    }
   ],
   "source": [
    "# pass by referance\n",
    "student = {'Jim': 12, 'Anna': 14, 'Preet': 10}\n",
    "def test(student):\n",
    "    new = {'Sam':20, 'Steve':21}\n",
    "    student.update(new)\n",
    "    print(\"Inside the function\", student)\n",
    "    return \n",
    "test(student)\n",
    "print(\"Outside the function:\", student)"
   ]
  },
  {
   "cell_type": "code",
   "execution_count": 12,
   "id": "80d8b23a",
   "metadata": {},
   "outputs": [
    {
     "name": "stdout",
     "output_type": "stream",
     "text": [
      "Inside the function {'Sam': 20, 'Steve': 21}\n",
      "Outside the function: {'Jim': 12, 'Anna': 14, 'Preet': 10}\n"
     ]
    }
   ],
   "source": [
    "#pass by value\n",
    "student = {'Jim': 12, 'Anna': 14, 'Preet': 10}\n",
    "def test(student):\n",
    "    student = {'Sam':20, 'Steve':21}\n",
    "    print(\"Inside the function\", student)\n",
    "    return \n",
    "test(student)\n",
    "print(\"Outside the function:\", student)"
   ]
  },
  {
   "cell_type": "markdown",
   "id": "4d6c1a14",
   "metadata": {},
   "source": [
    "8. Create a function that can intake integer or decimal value and do following operations:\n",
    "a. Logarithmic function (log x)\n",
    "b. Exponential function (exp(x))\n",
    "c. Power function with base 2 (2\n",
    "x\n",
    ")\n",
    "d. Square root"
   ]
  },
  {
   "cell_type": "code",
   "execution_count": 14,
   "id": "6d692e0d",
   "metadata": {},
   "outputs": [
    {
     "name": "stdout",
     "output_type": "stream",
     "text": [
      "3.2188758248682006 72004899337.38588 625 5.0\n"
     ]
    }
   ],
   "source": [
    "\n",
    "def operation(n):\n",
    "    import math\n",
    "    print(math.log(n),math.exp(n),pow(n,2),math.sqrt(n))\n",
    "number=25   \n",
    "operation(number)"
   ]
  },
  {
   "cell_type": "markdown",
   "id": "e7d1434b",
   "metadata": {},
   "source": [
    "9. Create a function that takes a full name as an argument and returns first name and last name"
   ]
  },
  {
   "cell_type": "code",
   "execution_count": 13,
   "id": "e0eb96a5",
   "metadata": {},
   "outputs": [
    {
     "name": "stdout",
     "output_type": "stream",
     "text": [
      "please enter full name :Shyam Sundar vallapudasu\n",
      "fullname is  Shyam Sundar vallapudasu\n",
      "first name  is  Shyam Sundar\n",
      "last name is  vallapudasu\n"
     ]
    }
   ],
   "source": [
    "fullname = input('please enter full name :')\n",
    "first_name = fullname.split(\" \")[0:-1]\n",
    "first_name=\" \".join(first_name)\n",
    "last_name = fullname.split(\" \")[-1]\n",
    "print('fullname is ',fullname)\n",
    "print('first name  is ',first_name)\n",
    "print('last name is ',last_name)"
   ]
  },
  {
   "cell_type": "code",
   "execution_count": null,
   "id": "a95843a1",
   "metadata": {},
   "outputs": [],
   "source": []
  }
 ],
 "metadata": {
  "kernelspec": {
   "display_name": "Python 3 (ipykernel)",
   "language": "python",
   "name": "python3"
  },
  "language_info": {
   "codemirror_mode": {
    "name": "ipython",
    "version": 3
   },
   "file_extension": ".py",
   "mimetype": "text/x-python",
   "name": "python",
   "nbconvert_exporter": "python",
   "pygments_lexer": "ipython3",
   "version": "3.9.12"
  }
 },
 "nbformat": 4,
 "nbformat_minor": 5
}
