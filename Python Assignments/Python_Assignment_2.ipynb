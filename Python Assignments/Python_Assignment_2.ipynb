{
 "cells": [
  {
   "cell_type": "code",
   "execution_count": null,
   "id": "f4589bd2",
   "metadata": {},
   "outputs": [],
   "source": [
    "1.What are the two values of the Boolean data type? How do you write them?\n",
    "\n",
    "Ans) True and Flase are the 2 values of Boolean datatypes starting with uppercase"
   ]
  },
  {
   "cell_type": "code",
   "execution_count": null,
   "id": "a41c2845",
   "metadata": {},
   "outputs": [],
   "source": [
    "2. What are the three different types of Boolean operators?\n",
    "\n",
    "Ans) There are 2 types of Boolean operators in python\n",
    "1) Camparison:--\n",
    "\n",
    "    a) == It results in a True if the 2 operands are equal, and a False if unequal.\n",
    "    b) != It results in a True if the 2 operands are unequal, and a False if equal.\n",
    "    c) <,<= It results in a True if the first operand is smaller/smaller than equal to the second, else a False.\n",
    "    d) > It results in a True if the first operand is bigger/greater than equal to  the second, else a False.\n",
    "    \n",
    "2) Logical:--\n",
    "    a) and True if both are True\n",
    "    b) or True if at least one is True\n",
    "    c) not True only if False"
   ]
  },
  {
   "cell_type": "code",
   "execution_count": null,
   "id": "ddc59ec1",
   "metadata": {},
   "outputs": [],
   "source": [
    "3. Make a list of each Boolean operator's truth tables (i.e. every possible combination of Boolean values for \n",
    "the operator and what it evaluate ).\n",
    "\n",
    "Ans) 1) Camparison:--\n",
    "\n",
    "    a) == It results in a True if the 2 operands are equal, and a False if unequal.\n",
    "    b) != It results in a True if the 2 operands are unequal, and a False if equal.\n",
    "    c) <,<= It results in a True if the first operand is smaller/smaller than equal to the second, else a False.\n",
    "    d) > It results in a True if the first operand is bigger/greater than equal to  the second, else a False.\n",
    "    \n",
    "2) Logical:--\n",
    "    a) and True if both are True\n",
    "    b) or True if at least one is True\n",
    "    c) not True only if False"
   ]
  },
  {
   "cell_type": "code",
   "execution_count": null,
   "id": "b5b4c335",
   "metadata": {},
   "outputs": [],
   "source": [
    "4. What are the values of the following expressions?\n",
    "\n",
    "(5 > 4) and (3 == 5) --> False\n",
    "not (5 > 4) --> False\n",
    "(5 > 4) or (3 == 5)--> True\n",
    "not ((5 > 4) or (3 == 5)) --> False\n",
    "(True and True) and (True == False) --> False\n",
    "(not False) or (not True) --> True\n"
   ]
  },
  {
   "cell_type": "code",
   "execution_count": null,
   "id": "d348e562",
   "metadata": {},
   "outputs": [],
   "source": [
    "5. What are the six comparison operators?\n",
    "\n",
    "Ans) ==,!=,<,<=,>,>+"
   ]
  },
  {
   "cell_type": "code",
   "execution_count": null,
   "id": "525b56e8",
   "metadata": {},
   "outputs": [],
   "source": [
    "6. How do you tell the difference between the equal to and assignment operators?Describe a condition and when you\n",
    "would use one.\n",
    "\n",
    "Ans) == is the equal to operator that compares two values and evaluates to a Boolean, while = is that assignment \n",
    "operator that stores a value in a variable."
   ]
  },
  {
   "cell_type": "code",
   "execution_count": null,
   "id": "88dedd01",
   "metadata": {},
   "outputs": [],
   "source": [
    "7. Identify the three blocks in this code:\n",
    "spam = 0\n",
    "if spam == 10:\n",
    "print('eggs')\n",
    "if spam > 5:\n",
    "print('bacon')\n",
    "else:\n",
    "print('ham')\n",
    "print('spam')\n",
    "print('spam')\n",
    "\n",
    "\n",
    "Ans) \n",
    "spam = 0  \n",
    "if spam == 10:  \n",
    "    print('eggs')  # block #1\n",
    "if spam > 5:  \n",
    "    print('bacon')  # block #2\n",
    "else:  \n",
    "    print('ham')  # block #3\n",
    "print('spam')  \n",
    "print('spam')"
   ]
  },
  {
   "cell_type": "markdown",
   "id": "2967d06d",
   "metadata": {},
   "source": [
    "8. Write code that prints Hello if 1 is stored in spam, prints Howdy if 2 is stored in spam, and prints Greetings! if anything else is stored in spam.\n",
    "\n"
   ]
  },
  {
   "cell_type": "code",
   "execution_count": 1,
   "id": "0157cb8c",
   "metadata": {},
   "outputs": [
    {
     "name": "stdout",
     "output_type": "stream",
     "text": [
      "Please enter value :2\n",
      "Howdy\n"
     ]
    }
   ],
   "source": [
    "spam = int(input(\"Please enter value :\"))\n",
    "if spam==1:\n",
    "    print('Hello')\n",
    "elif spam ==2:\n",
    "    print('Howdy')\n",
    "else:\n",
    "    print('Greetings!')"
   ]
  },
  {
   "cell_type": "code",
   "execution_count": null,
   "id": "449604c2",
   "metadata": {},
   "outputs": [],
   "source": [
    "9.If your programme is stuck in an endless loop, what keys you’ll press?\n",
    "\n",
    "Ans) Press Ctrl-c to stop a program stuck in an infinite loop"
   ]
  },
  {
   "cell_type": "code",
   "execution_count": null,
   "id": "fca763f6",
   "metadata": {},
   "outputs": [],
   "source": [
    "10. How can you tell the difference between break and continue?\n",
    "\n",
    "Ans) In the case of Break if the condition satisfies the execution will go outiside the loop and in case of contineous if the requires condition satisfies it will go to next iteration"
   ]
  },
  {
   "cell_type": "code",
   "execution_count": null,
   "id": "40a016a2",
   "metadata": {},
   "outputs": [],
   "source": [
    "11. In a for loop, what is the difference between range(10), range(0, 10), and range(0, 10, 1)?\n",
    "\n",
    "Ans) In all the three cases there is no difference the value of the loop starts from zero end ends at mine when you are giving range(0, 10),0 as an initial value you are explicitly mentioning to start the loop with zero and here range(0, 10, 1),1 indicates the step value of 1 so finally all the three loops will give the same result"
   ]
  },
  {
   "cell_type": "markdown",
   "id": "3412ed4a",
   "metadata": {},
   "source": [
    "12. Write a short program that prints the numbers 1 to 10 using a for loop. Then write an equivalent program that prints the numbers 1 to 10 using a while loop."
   ]
  },
  {
   "cell_type": "code",
   "execution_count": 2,
   "id": "7618f638",
   "metadata": {},
   "outputs": [
    {
     "name": "stdout",
     "output_type": "stream",
     "text": [
      "0,1,2,3,4,5,6,7,8,9,10,"
     ]
    }
   ],
   "source": [
    "for i in range(11):\n",
    "    print(i, end =\",\")"
   ]
  },
  {
   "cell_type": "code",
   "execution_count": 3,
   "id": "bbd4a9a0",
   "metadata": {},
   "outputs": [
    {
     "name": "stdout",
     "output_type": "stream",
     "text": [
      "0,1,2,3,4,5,6,7,8,9,10,"
     ]
    }
   ],
   "source": [
    "k=0\n",
    "while k<11:    \n",
    "    print(k,end=\",\")\n",
    "    k+=1\n",
    "    "
   ]
  },
  {
   "cell_type": "raw",
   "id": "40661537",
   "metadata": {},
   "source": [
    "13. If you had a function named bacon() inside a module named spam, how would you call it after importing spam?\n",
    "\n",
    "Ans) from spam import bacon() or import spam.bacon()"
   ]
  }
 ],
 "metadata": {
  "kernelspec": {
   "display_name": "Python 3 (ipykernel)",
   "language": "python",
   "name": "python3"
  },
  "language_info": {
   "codemirror_mode": {
    "name": "ipython",
    "version": 3
   },
   "file_extension": ".py",
   "mimetype": "text/x-python",
   "name": "python",
   "nbconvert_exporter": "python",
   "pygments_lexer": "ipython3",
   "version": "3.9.12"
  }
 },
 "nbformat": 4,
 "nbformat_minor": 5
}
