{
 "cells": [
  {
   "cell_type": "code",
   "execution_count": null,
   "id": "d4d05137",
   "metadata": {},
   "outputs": [],
   "source": [
    "1. What exactly is []?\n",
    "\n",
    "Ans) it indicates an empty list with no items.\n"
   ]
  },
  {
   "cell_type": "code",
   "execution_count": null,
   "id": "70f8f81a",
   "metadata": {},
   "outputs": [],
   "source": [
    "2. In a list of values stored in a variable called spam, how would you assign the value 'hello' as the third value? (Assume [2, 4, 6, 8, 10] are in spam.)\n",
    "\n",
    "Ans) it can be done by spam[2]='hello'"
   ]
  },
  {
   "cell_type": "markdown",
   "id": "2e5c5fa6",
   "metadata": {},
   "source": [
    "Let's pretend the spam includes the list ['a', 'b', 'c', 'd'] for the next three queries."
   ]
  },
  {
   "cell_type": "code",
   "execution_count": 5,
   "id": "d33424f6",
   "metadata": {},
   "outputs": [],
   "source": [
    "spam=['a', 'b', 'c', 'd'] "
   ]
  },
  {
   "cell_type": "code",
   "execution_count": null,
   "id": "ab3decd2",
   "metadata": {},
   "outputs": [],
   "source": [
    "3. What is the value of spam[int(int('3' * 2) / 11)]?\n",
    "\n",
    "Ans) d"
   ]
  },
  {
   "cell_type": "code",
   "execution_count": null,
   "id": "6e568b82",
   "metadata": {},
   "outputs": [],
   "source": [
    "4. What is the value of spam[-1]?\n",
    "\n",
    "Ans) d"
   ]
  },
  {
   "cell_type": "code",
   "execution_count": null,
   "id": "47262cb2",
   "metadata": {},
   "outputs": [],
   "source": [
    "5. What is the value of spam[:2]?\n",
    "\n",
    "Ans) a,b"
   ]
  },
  {
   "cell_type": "markdown",
   "id": "fd81f805",
   "metadata": {},
   "source": [
    "Let's pretend bacon has the list [3.14, 'cat,' 11, 'cat,' True] for the next three questions."
   ]
  },
  {
   "cell_type": "code",
   "execution_count": 9,
   "id": "e749418b",
   "metadata": {},
   "outputs": [],
   "source": [
    "bacon =[3.14, 'cat', 11, 'cat', True] "
   ]
  },
  {
   "cell_type": "code",
   "execution_count": null,
   "id": "1b798384",
   "metadata": {},
   "outputs": [],
   "source": [
    "6. What is the value of bacon.index('cat')?\n",
    "\n",
    "Ans) 1"
   ]
  },
  {
   "cell_type": "code",
   "execution_count": null,
   "id": "f5ed2e26",
   "metadata": {},
   "outputs": [],
   "source": [
    "7. How does bacon.append(99) change the look of the list value in bacon?\n",
    "\n",
    "Ans) In this case now the 99 value will be added to bacon"
   ]
  },
  {
   "cell_type": "code",
   "execution_count": null,
   "id": "c53fbd90",
   "metadata": {},
   "outputs": [],
   "source": [
    "8. How does bacon.remove('cat') change the look of the list in bacon?\n",
    "\n",
    "Ans) it can be done by 2 ways, 1 way is by bacon.pop(1) wit next number 1 and 2-way is by bacon.remove('cat') by specifing\n",
    "the value that is to be removed."
   ]
  },
  {
   "cell_type": "code",
   "execution_count": null,
   "id": "d6ac49b2",
   "metadata": {},
   "outputs": [],
   "source": [
    "9. What are the list concatenation and list replication operators?\n",
    "\n",
    "Ans)The operator for list concatenation is +, while the operator for replication is *"
   ]
  },
  {
   "cell_type": "code",
   "execution_count": null,
   "id": "90a1bcb5",
   "metadata": {},
   "outputs": [],
   "source": [
    "10. What is difference between the list methods append() and insert()?\n",
    "\n",
    "Ans)append() will add values only to the end of a list, insert() can add them anywhere in the list by index position."
   ]
  },
  {
   "cell_type": "code",
   "execution_count": null,
   "id": "87ef8bb6",
   "metadata": {},
   "outputs": [],
   "source": [
    "11. What are the two methods for removing items from a list?\n",
    "\n",
    "Ans)The del statement and the remove() method are two ways to remove values from a list and also by pop with index position"
   ]
  },
  {
   "cell_type": "code",
   "execution_count": null,
   "id": "c319ed57",
   "metadata": {},
   "outputs": [],
   "source": [
    "12. Describe how list values and string values are identical.\n",
    "\n",
    "Ans) Indexing and slicing is possible in both the cases as well as the length function is common in both list and strings and \n",
    "each  value in the list and in string can be picked by for loop"
   ]
  },
  {
   "cell_type": "code",
   "execution_count": null,
   "id": "1dfb9784",
   "metadata": {},
   "outputs": [],
   "source": [
    "13. What's the difference between tuples and lists?\n",
    "\n",
    "Ans) Lists which are denoted by [] are Mutable, Indexable and Slicable. they can have values added, removed, or changed. \n",
    "Tuples denoted by () are Immutable but Indexable and Slicable"
   ]
  },
  {
   "cell_type": "raw",
   "id": "882c1b7c",
   "metadata": {},
   "source": [
    "14. How do you type a tuple value that only contains the integer 42\n",
    "\n",
    "Ans) a =(42,)"
   ]
  },
  {
   "cell_type": "code",
   "execution_count": null,
   "id": "89c8462e",
   "metadata": {},
   "outputs": [],
   "source": [
    "15. How do you get a list value's tuple form? How do you get a tuple value's list form?\n",
    "\n",
    "Ans)The tuple() and list() functions, respectively are used to convert a list to tuple and vice versa"
   ]
  },
  {
   "cell_type": "code",
   "execution_count": null,
   "id": "56dd6f0e",
   "metadata": {},
   "outputs": [],
   "source": [
    "16. Variables that \"contain\" list values are not necessarily lists themselves. Instead, what do they contain?\n",
    "\n",
    "Ans)They contain references to list values."
   ]
  },
  {
   "cell_type": "code",
   "execution_count": null,
   "id": "b899a6b5",
   "metadata": {},
   "outputs": [],
   "source": [
    "17. How do you distinguish between copy.copy() and copy.deepcopy()?\n",
    "\n",
    "Ans) The copy.copy() function will do a shallow copy of a list, while the copy.deepcopy() function will do a deep copy of a list. That is, only copy.deepcopy() will duplicate any lists inside the list."
   ]
  },
  {
   "cell_type": "code",
   "execution_count": null,
   "id": "b11f82c1",
   "metadata": {},
   "outputs": [],
   "source": []
  }
 ],
 "metadata": {
  "kernelspec": {
   "display_name": "Python 3 (ipykernel)",
   "language": "python",
   "name": "python3"
  },
  "language_info": {
   "codemirror_mode": {
    "name": "ipython",
    "version": 3
   },
   "file_extension": ".py",
   "mimetype": "text/x-python",
   "name": "python",
   "nbconvert_exporter": "python",
   "pygments_lexer": "ipython3",
   "version": "3.9.12"
  }
 },
 "nbformat": 4,
 "nbformat_minor": 5
}
