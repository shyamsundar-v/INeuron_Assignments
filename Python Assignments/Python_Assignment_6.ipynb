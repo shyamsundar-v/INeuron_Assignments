{
 "cells": [
  {
   "cell_type": "code",
   "execution_count": null,
   "id": "baac38a0",
   "metadata": {},
   "outputs": [],
   "source": [
    "Q.1. What are keywords in python? Using the keyword library, print all the python keywords\n",
    "\n",
    "Ans) Python Keywords are some predefined and reserved words in python that have special meanings. Keywords are used to\n",
    "define the syntax of the coding. The keyword cannot be used as an identifier, function, or variable name. "
   ]
  },
  {
   "cell_type": "code",
   "execution_count": 1,
   "id": "e9c70ad7",
   "metadata": {},
   "outputs": [
    {
     "name": "stdout",
     "output_type": "stream",
     "text": [
      "['False', 'None', 'True', '__peg_parser__', 'and', 'as', 'assert', 'async', 'await', 'break', 'class', 'continue', 'def', 'del', 'elif', 'else', 'except', 'finally', 'for', 'from', 'global', 'if', 'import', 'in', 'is', 'lambda', 'nonlocal', 'not', 'or', 'pass', 'raise', 'return', 'try', 'while', 'with', 'yield']\n"
     ]
    }
   ],
   "source": [
    "import keyword\n",
    "print(keyword.kwlist)"
   ]
  },
  {
   "cell_type": "code",
   "execution_count": null,
   "id": "f2a6176f",
   "metadata": {},
   "outputs": [],
   "source": [
    "Q.2. What are the rules to create variables in python?\n",
    "\n",
    "A Python variable name must start with a letter or the underscore character.\n",
    "A Python variable name cannot start with a number.\n",
    "A Python variable name can only contain alpha-numeric characters and underscores (A-z, 0-9, and _ ).\n",
    "Variable in Python names are case-sensitive (name, Name, and NAME are three different variables)."
   ]
  },
  {
   "cell_type": "code",
   "execution_count": null,
   "id": "f63fd567",
   "metadata": {},
   "outputs": [],
   "source": [
    "Q.4. What will happen if a keyword is used as a variable name?\n",
    "\n",
    "Ans) It will result in compilation error."
   ]
  },
  {
   "cell_type": "code",
   "execution_count": null,
   "id": "9685b873",
   "metadata": {},
   "outputs": [],
   "source": [
    "Q.5. For what purpose def keyword is used?\n",
    "\n",
    "Ans) Python def keyword is used to define a function, it is placed before a function name that is provided by the user to create a user-defined function."
   ]
  },
  {
   "cell_type": "code",
   "execution_count": null,
   "id": "d67097e2",
   "metadata": {},
   "outputs": [],
   "source": [
    "Q.6. What is the operation of this special character ‘\\’?\n",
    "\n",
    "Ans) '\\' it's a special character which is an explain escape character  where '\\t' it is used for tab space and '\\n'\n",
    "it is used for new line."
   ]
  },
  {
   "cell_type": "code",
   "execution_count": null,
   "id": "382459d9",
   "metadata": {},
   "outputs": [],
   "source": [
    "Q.7. Give an example of the following conditions:\n",
    "\n",
    "Homogeneous list -- [1,2,3,4] - All the elements in the list of same data type\n",
    "Heterogeneous set -- {1,'boy',1.23} -- Will be having elements of different data types\n",
    "Homogeneous tuple -- ('apple','boy','cat') --All the elements in the tuple of same data type\n"
   ]
  },
  {
   "cell_type": "code",
   "execution_count": null,
   "id": "b216600e",
   "metadata": {},
   "outputs": [],
   "source": [
    "Q.8. Explain the mutable and immutable data types with proper explanation & examples\n",
    "\n",
    "Ans) Mutable when anything can be modified or changed. The term \"mutable\" in Python refers to an object's capacity to modify its\n",
    "values.\n",
    "Ex --> List,set,Dict\n",
    "\n",
    "Immutable refers to a state in which no change can occur over time. A Python object is referred to as immutable if we cannot\n",
    "change its value over time. The value of these Python objects is fixed once they are made.\n",
    "Ex--> String,tuple,int"
   ]
  },
  {
   "cell_type": "code",
   "execution_count": 3,
   "id": "b2e1a0d0",
   "metadata": {},
   "outputs": [
    {
     "name": "stdout",
     "output_type": "stream",
     "text": [
      "The original list:  ['Python', 'Java', 23, False, 5.3]\n",
      "The modified list:  ['Python', 'Java', 'changed', False, 5.3]\n"
     ]
    }
   ],
   "source": [
    "# Creating a list  \n",
    "list1 = ['Python', 'Java', 23, False, 5.3]  \n",
    "print(\"The original list: \", list1)  \n",
    "  \n",
    "# Changing the value at index 2 of the list  \n",
    "list1[2]='changed'  \n",
    "print(\"The modified list: \", list1)  "
   ]
  },
  {
   "cell_type": "code",
   "execution_count": 4,
   "id": "ac6a7d31",
   "metadata": {},
   "outputs": [
    {
     "name": "stdout",
     "output_type": "stream",
     "text": [
      "The original dictionary:  {1: 'a', 2: 'b', 3: 'c'}\n",
      "The modified dictionary:  {1: 'a', 2: 'changed', 3: 'c'}\n"
     ]
    }
   ],
   "source": [
    "# Creating a dictionary  \n",
    "dict_ = {1: \"a\", 2: \"b\", 3: \"c\"}  \n",
    "print(\"The original dictionary: \", dict_)  \n",
    "  \n",
    "# Changing the value of one of the keys of the dictionary  \n",
    "dict_[2]= 'changed'  \n",
    "print(\"The modified dictionary: \", dict_)"
   ]
  },
  {
   "cell_type": "markdown",
   "id": "262ffa65",
   "metadata": {},
   "source": [
    "Immutability"
   ]
  },
  {
   "cell_type": "code",
   "execution_count": 5,
   "id": "3af2143a",
   "metadata": {},
   "outputs": [
    {
     "ename": "TypeError",
     "evalue": "'str' object does not support item assignment",
     "output_type": "error",
     "traceback": [
      "\u001b[1;31m---------------------------------------------------------------------------\u001b[0m",
      "\u001b[1;31mTypeError\u001b[0m                                 Traceback (most recent call last)",
      "Input \u001b[1;32mIn [5]\u001b[0m, in \u001b[0;36m<cell line: 5>\u001b[1;34m()\u001b[0m\n\u001b[0;32m      2\u001b[0m string \u001b[38;5;241m=\u001b[39m \u001b[38;5;124m'\u001b[39m\u001b[38;5;124mhello peeps\u001b[39m\u001b[38;5;124m'\u001b[39m  \n\u001b[0;32m      4\u001b[0m \u001b[38;5;66;03m# Trying to modify the string object  \u001b[39;00m\n\u001b[1;32m----> 5\u001b[0m string[\u001b[38;5;241m0\u001b[39m] \u001b[38;5;241m=\u001b[39m \u001b[38;5;124m'\u001b[39m\u001b[38;5;124mX\u001b[39m\u001b[38;5;124m'\u001b[39m  \n\u001b[0;32m      6\u001b[0m \u001b[38;5;28mprint\u001b[39m(string)\n",
      "\u001b[1;31mTypeError\u001b[0m: 'str' object does not support item assignment"
     ]
    }
   ],
   "source": [
    "# Creating a string object  \n",
    "string = 'hello peeps'  \n",
    "  \n",
    "# Trying to modify the string object  -which results in below error\n",
    "string[0] = 'X'  \n",
    "print(string)  "
   ]
  },
  {
   "cell_type": "code",
   "execution_count": 1,
   "id": "c7a47428",
   "metadata": {},
   "outputs": [
    {
     "name": "stdout",
     "output_type": "stream",
     "text": [
      "Please enter no of rows required : 6\n",
      "     *\n",
      "    ***\n",
      "   *****\n",
      "  *******\n",
      " *********\n",
      "***********\n"
     ]
    }
   ],
   "source": [
    "#9\n",
    "n = int(input('Please enter no of rows required : '))\n",
    "for i in range(1, n+1):\n",
    "    for j in range(n - i):\n",
    "        print(' ', end='')\n",
    "    for k in range(2 * i - 1):\n",
    "        print('*', end='')\n",
    "    print()"
   ]
  },
  {
   "cell_type": "code",
   "execution_count": 6,
   "id": "28750fc9",
   "metadata": {},
   "outputs": [
    {
     "name": "stdout",
     "output_type": "stream",
     "text": [
      "Enter number of rows: 8\n",
      "| | | | | | | | | | | | | \n",
      "  | | | | | | | | | | | \n",
      "    | | | | | | | | | \n",
      "      | | | | | | | \n",
      "        | | | | | \n",
      "          | | | \n",
      "            | \n"
     ]
    }
   ],
   "source": [
    "rows = int(input(\"Enter number of rows: \"))\n",
    "\n",
    "for i in range(rows, 1, -1):\n",
    "    for space in range(0, rows-i):\n",
    "        print(\"  \", end=\"\")\n",
    "    for j in range(i, 2*i-1):\n",
    "        print(\"| \", end=\"\")\n",
    "    for j in range(1, i-1):\n",
    "        print(\"| \", end=\"\")\n",
    "    print()"
   ]
  },
  {
   "cell_type": "code",
   "execution_count": null,
   "id": "5c689413",
   "metadata": {},
   "outputs": [],
   "source": []
  }
 ],
 "metadata": {
  "kernelspec": {
   "display_name": "Python 3 (ipykernel)",
   "language": "python",
   "name": "python3"
  },
  "language_info": {
   "codemirror_mode": {
    "name": "ipython",
    "version": 3
   },
   "file_extension": ".py",
   "mimetype": "text/x-python",
   "name": "python",
   "nbconvert_exporter": "python",
   "pygments_lexer": "ipython3",
   "version": "3.9.12"
  }
 },
 "nbformat": 4,
 "nbformat_minor": 5
}
