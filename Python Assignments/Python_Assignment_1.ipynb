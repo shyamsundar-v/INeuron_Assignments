{
 "cells": [
  {
   "cell_type": "code",
   "execution_count": null,
   "id": "bdca4a06",
   "metadata": {},
   "outputs": [],
   "source": [
    "1. In the below elements which of them are values or an expression? eg:- values can be integer or string and expressions will be mathematical operators.\n",
    "\n",
    "Ans) Values -- 'hello' & -87.8 & 6\n",
    "    Expressions -- +,*,-,/\n"
   ]
  },
  {
   "cell_type": "code",
   "execution_count": null,
   "id": "9ac1135e",
   "metadata": {},
   "outputs": [],
   "source": [
    "2. What is the difference between string and variable?\n",
    "\n",
    "Ans) String is a datatype which containes series of characters which can be alpha numberic enclosed between '' or \"\".\n",
    "    variables refers to any value i.e which stores any values and can be accessed using the same."
   ]
  },
  {
   "cell_type": "code",
   "execution_count": null,
   "id": "1290bf52",
   "metadata": {},
   "outputs": [],
   "source": [
    "3. Describe three different data types.\n",
    "\n",
    "Ans) 1)Integers – Int is a datatype which contains positive or negative whole numbers (without fractions or decimals. There is no limit/restiction for the lenth of int value.\n",
    "2) String is a datatype which containes series of characters which can be alpha numberic enclosed between '' or \"\".\n",
    "3) Float datatype is a real number with a floating-point representation specified by a decimal point. Optionally, the character e or E followed by a positive or negative integer may be appended to specify scientific notation.\n",
    "4) Boolean – (True or False) Boolean type provides two built-in values, True or False \n"
   ]
  },
  {
   "cell_type": "code",
   "execution_count": null,
   "id": "c4134f13",
   "metadata": {},
   "outputs": [],
   "source": [
    "4. What is an expression made up of? What do all expressions do?\n",
    "\n",
    "Ans) \n",
    "An expression is a combination of variables, values, operations and calls to functionsr that is interpreted to produce some other value. In any programming language, an expression will do evaluations as per the precedence of its operators. "
   ]
  },
  {
   "cell_type": "code",
   "execution_count": null,
   "id": "4d837ec9",
   "metadata": {},
   "outputs": [],
   "source": [
    "5. This assignment statements, like spam = 10. What is the difference between an expression and a statement?\n",
    "\n",
    "Ans) An expression evaluates to a single value which a statement\n",
    "does not. The statement is just like a command that a python interpreter executes like print."
   ]
  },
  {
   "cell_type": "code",
   "execution_count": null,
   "id": "7a794d00",
   "metadata": {},
   "outputs": [],
   "source": [
    "6. After running the following code, what does the variable bacon contain?\n",
    "bacon = 22\n",
    "bacon + 1\n",
    "\n",
    "Ans) It will result in 23 after execution"
   ]
  },
  {
   "cell_type": "code",
   "execution_count": null,
   "id": "b778efda",
   "metadata": {},
   "outputs": [],
   "source": [
    "7. What should the values of the following two terms be?\n",
    "'spam' + 'spamspam'\n",
    "'spam' * 3\n",
    "\n",
    "\n",
    "Ans) 'spam' + 'spamspam' will result in spamspamspam and 'spam' * 3 will gives the same spamspamspam"
   ]
  },
  {
   "cell_type": "code",
   "execution_count": null,
   "id": "e20efdb1",
   "metadata": {},
   "outputs": [],
   "source": [
    "8.Why is eggs a valid variable name while 100 is invalid?\n",
    "\n",
    "Ans) Beacuse we cant start a variable with integer value but can be valied when it end with int Eg eggs100"
   ]
  },
  {
   "cell_type": "code",
   "execution_count": null,
   "id": "afe81df2",
   "metadata": {},
   "outputs": [],
   "source": [
    "9. What three functions can be used to get the integer, floating-point number, or string version of a value?\n",
    "\n",
    "Ans) They are as follows -- int(),float(),str()"
   ]
  },
  {
   "cell_type": "code",
   "execution_count": null,
   "id": "e66999a9",
   "metadata": {},
   "outputs": [],
   "source": [
    "10. Why does this expression cause an error? How can you fix it?\n",
    "'I have eaten ' + 99 + ' burritos.'\n",
    "\n",
    "Ans) Because 99 is an integer it cannot be concatenated with strings but it can be acheived by typecasting\n",
    "\n",
    "such as 'I have eaten ' + str(99) + ' burritos.'"
   ]
  }
 ],
 "metadata": {
  "kernelspec": {
   "display_name": "Python 3 (ipykernel)",
   "language": "python",
   "name": "python3"
  },
  "language_info": {
   "codemirror_mode": {
    "name": "ipython",
    "version": 3
   },
   "file_extension": ".py",
   "mimetype": "text/x-python",
   "name": "python",
   "nbconvert_exporter": "python",
   "pygments_lexer": "ipython3",
   "version": "3.9.12"
  }
 },
 "nbformat": 4,
 "nbformat_minor": 5
}
