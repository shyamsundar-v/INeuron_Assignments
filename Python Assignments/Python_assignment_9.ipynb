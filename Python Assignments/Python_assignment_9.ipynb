{
 "cells": [
  {
   "cell_type": "code",
   "execution_count": null,
   "id": "05d4a896",
   "metadata": {},
   "outputs": [],
   "source": [
    "1. What is a lambda function in Python, and how does it differ from a regular function?\n",
    "\n",
    "Ans) Lambda functions are similar to user-defined functions but without a name. \n",
    "They're commonly referred to as anonymous functions."
   ]
  },
  {
   "cell_type": "code",
   "execution_count": null,
   "id": "479b8612",
   "metadata": {},
   "outputs": [],
   "source": [
    "2. Can a lambda function in Python have multiple arguments? If yes, how can you define and use\n",
    "them?\n",
    "\n",
    "Ans) Yes a Lambda function can have multiple arguments please find the example below\n",
    "\n"
   ]
  },
  {
   "cell_type": "code",
   "execution_count": 1,
   "id": "4132daee",
   "metadata": {},
   "outputs": [
    {
     "name": "stdout",
     "output_type": "stream",
     "text": [
      "[0, 7, 26, 63, 124, 215, 342, 511]\n",
      "[14, 25, 36, 47, 58, 69, 80, 91, 102]\n",
      "[78, 9797, 97, 985, 75473, 2845, 74]\n",
      "\n"
     ]
    }
   ],
   "source": [
    "x1 = [ 1, 8, 27, 64, 125, 216, 343, 512]\n",
    "x2 = 5\n",
    "x3 = 6\n",
    "y1 = [11, 22, 33, 44, 55, 66, 77, 88, 99]\n",
    "y2 = 4\n",
    "y3 = 1\n",
    "z1 = [78, 9797, 97, 985, 75473, 2845, 74]\n",
    "z2 = 99\n",
    "z3 = 99\n",
    "\n",
    "# Regular function calls\n",
    "modify = lambda a, b, c : [x + b - c for x in a]\n",
    "print(modify(x1, x2, x3))\n",
    "print(modify(y1, y2, y3))\n",
    "print(modify(z1, z2, z3), end = \"\\n\\n\")"
   ]
  },
  {
   "cell_type": "markdown",
   "id": "abffb885",
   "metadata": {},
   "source": [
    "6. Write a lambda function to calculate the square of a given number."
   ]
  },
  {
   "cell_type": "code",
   "execution_count": 2,
   "id": "35a90a82",
   "metadata": {},
   "outputs": [
    {
     "name": "stdout",
     "output_type": "stream",
     "text": [
      "4\n"
     ]
    }
   ],
   "source": [
    "sq = lambda x :x**2\n",
    "\n",
    "print(sq(2))"
   ]
  },
  {
   "cell_type": "markdown",
   "id": "d9873184",
   "metadata": {},
   "source": [
    "7. Create a lambda function to find the maximum value in a list of integers"
   ]
  },
  {
   "cell_type": "code",
   "execution_count": 3,
   "id": "7936914e",
   "metadata": {},
   "outputs": [
    {
     "name": "stdout",
     "output_type": "stream",
     "text": [
      "512\n"
     ]
    }
   ],
   "source": [
    "l = [ 1, 8, 27, 64, 125, 216, 343, 512]\n",
    "\n",
    "m = lambda x: max(x)\n",
    "\n",
    "print(m(l))"
   ]
  },
  {
   "cell_type": "markdown",
   "id": "7c8c76f0",
   "metadata": {},
   "source": [
    "8. Implement a lambda function to filter out all the even numbers from a list of integers.\n"
   ]
  },
  {
   "cell_type": "code",
   "execution_count": 5,
   "id": "b79c6c79",
   "metadata": {},
   "outputs": [
    {
     "data": {
      "text/plain": [
       "[8, 64, 216, 512]"
      ]
     },
     "execution_count": 5,
     "metadata": {},
     "output_type": "execute_result"
    }
   ],
   "source": [
    "even = list(filter(lambda x : x%2==0,l))\n",
    "even"
   ]
  },
  {
   "cell_type": "markdown",
   "id": "43d927ea",
   "metadata": {},
   "source": [
    "9. Write a lambda function to sort a list of strings in ascending order based on the length of each\n",
    "string.\n"
   ]
  },
  {
   "cell_type": "code",
   "execution_count": 25,
   "id": "64d4c88d",
   "metadata": {},
   "outputs": [
    {
     "name": "stdout",
     "output_type": "stream",
     "text": [
      "['shyam', 'sundar', 'vallapudasu']\n",
      "['vallapudasu', 'sundar', 'shyam']\n"
     ]
    }
   ],
   "source": [
    "g=['vallapudasu','shyam','sundar']\n",
    "#asc\n",
    "a=sorted(g,key=lambda x : len(x))\n",
    "print(a)\n",
    "#des\n",
    "b=sorted(g,key=lambda x : len(x),reverse=True)\n",
    "print(b)"
   ]
  },
  {
   "cell_type": "markdown",
   "id": "41691607",
   "metadata": {},
   "source": [
    "10. Create a lambda function that takes two lists as input and returns a new list containing the\n",
    "common elements between the two lists.\n"
   ]
  },
  {
   "cell_type": "code",
   "execution_count": 30,
   "id": "a332225a",
   "metadata": {},
   "outputs": [
    {
     "data": {
      "text/plain": [
       "[512]"
      ]
     },
     "execution_count": 30,
     "metadata": {},
     "output_type": "execute_result"
    }
   ],
   "source": [
    "l1 = [ 1, 8, 27, 64, 125, 216, 343, 512]\n",
    "l2=[512]\n",
    "inters = list(filter(lambda x : x in l1,l2))\n",
    "\n",
    "inters"
   ]
  },
  {
   "cell_type": "code",
   "execution_count": null,
   "id": "72cb77d5",
   "metadata": {},
   "outputs": [],
   "source": []
  }
 ],
 "metadata": {
  "kernelspec": {
   "display_name": "Python 3 (ipykernel)",
   "language": "python",
   "name": "python3"
  },
  "language_info": {
   "codemirror_mode": {
    "name": "ipython",
    "version": 3
   },
   "file_extension": ".py",
   "mimetype": "text/x-python",
   "name": "python",
   "nbconvert_exporter": "python",
   "pygments_lexer": "ipython3",
   "version": "3.9.12"
  }
 },
 "nbformat": 4,
 "nbformat_minor": 5
}
