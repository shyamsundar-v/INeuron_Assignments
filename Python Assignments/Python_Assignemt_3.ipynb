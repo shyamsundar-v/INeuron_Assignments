{
 "cells": [
  {
   "cell_type": "markdown",
   "id": "e054e859",
   "metadata": {},
   "source": [
    "1. Why are functions advantageous to have in your programs?\n",
    "\n",
    "Ans) The main advantage of the function is code reusability function reduces the using of same code multiple times and makes the program short."
   ]
  },
  {
   "cell_type": "markdown",
   "id": "a6878c0c",
   "metadata": {},
   "source": [
    "2. When does the code in a function run: when it's specified or when it's called?.\n",
    "\n",
    "Ans) The code is the function will run and the function is called the object of the function."
   ]
  },
  {
   "cell_type": "markdown",
   "id": "1988b70c",
   "metadata": {},
   "source": [
    "3. What statement creates a function?\n",
    "\n",
    "Ans) The def statement creates a function"
   ]
  },
  {
   "cell_type": "markdown",
   "id": "9216d946",
   "metadata": {},
   "source": [
    "4. What is the difference between a function and a function call?\n",
    "\n",
    "Ans) A function is a procedure or a sequence for steps or operations in the program which is created in a class to achieve desired result whereas function call is a process to call the function which was created in the class in order to get the required result.\n"
   ]
  },
  {
   "cell_type": "markdown",
   "id": "e2eb7331",
   "metadata": {},
   "source": [
    "5. How many global scopes are there in a Python program? How many local scopes?\n",
    "\n",
    "Ans) There is one global scope, and a local scope is created whenever a function is called."
   ]
  },
  {
   "cell_type": "markdown",
   "id": "918c330f",
   "metadata": {},
   "source": [
    "6. What happens to variables in a local scope when the function call returns?\n",
    "\n",
    "Ans) When a function returns, the local scope is destroyed, and all the variables in it are forgotten."
   ]
  },
  {
   "cell_type": "markdown",
   "id": "810676bd",
   "metadata": {},
   "source": [
    "7. What is the concept of a return value? Is it possible to have a return value in an expression?\n",
    "\n",
    "Ans) When a function returns, the local scope is destroyed, and all the variables in it are lost."
   ]
  },
  {
   "cell_type": "markdown",
   "id": "9e08a325",
   "metadata": {},
   "source": [
    "8. If a function does not have a return statement, what is the return value of a call to that function?\n",
    "\n",
    "Ans) If there is no return statement for a function, its return value is None."
   ]
  },
  {
   "cell_type": "markdown",
   "id": "d32a5dc5",
   "metadata": {},
   "source": [
    "9. How do you make a function variable refer to the global variable?\n",
    "\n",
    "Ans) A global statement will force a variable in a function to refer to the global variable. If you want to refer to a global variable in a function, you can use the global keyword to declare which variables are global."
   ]
  },
  {
   "cell_type": "markdown",
   "id": "c4b6205f",
   "metadata": {},
   "source": [
    "10. What is the data type of None?\n",
    "\n",
    "Ans) The data type of None is NoneType."
   ]
  },
  {
   "cell_type": "markdown",
   "id": "284198de",
   "metadata": {},
   "source": [
    "11. What does the sentence import areallyourpetsnamederic do?\n",
    "\n",
    "Ans) That import statement imports a module named areallyourpetsnamederic."
   ]
  },
  {
   "cell_type": "markdown",
   "id": "67a9b962",
   "metadata": {},
   "source": [
    "12. If you had a bacon() feature in a spam module, what would you call it after importing spam?\n",
    "\n",
    "Ans) from spam import bacon() or import spam.bacon()"
   ]
  },
  {
   "cell_type": "markdown",
   "id": "e372411c",
   "metadata": {},
   "source": [
    "13. What can you do to save a programme from crashing if it encounters an error?\n",
    "\n",
    "Ans) In order to save the program from crashing the main logic of the code should be placed in a try block when the error encounters the exception is raised in the accept block this can prevent the program from crashing\n"
   ]
  },
  {
   "cell_type": "markdown",
   "id": "ae536f1d",
   "metadata": {},
   "source": [
    "14. What is the purpose of the try clause? What is the purpose of the except clause?\n",
    "\n",
    "Ans) will prevent the program from crashing when the exception is raised in thetry block  it will be triggered in except block"
   ]
  },
  {
   "cell_type": "code",
   "execution_count": null,
   "id": "1a2e4eb5",
   "metadata": {},
   "outputs": [],
   "source": []
  }
 ],
 "metadata": {
  "kernelspec": {
   "display_name": "Python 3 (ipykernel)",
   "language": "python",
   "name": "python3"
  },
  "language_info": {
   "codemirror_mode": {
    "name": "ipython",
    "version": 3
   },
   "file_extension": ".py",
   "mimetype": "text/x-python",
   "name": "python",
   "nbconvert_exporter": "python",
   "pygments_lexer": "ipython3",
   "version": "3.9.12"
  }
 },
 "nbformat": 4,
 "nbformat_minor": 5
}
