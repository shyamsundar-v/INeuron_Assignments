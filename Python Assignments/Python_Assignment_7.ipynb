{
 "cells": [
  {
   "cell_type": "code",
   "execution_count": null,
   "id": "3b5e8691",
   "metadata": {},
   "outputs": [],
   "source": [
    "Q.1. Create two int type variables, apply addition, subtraction, division and multiplications\n",
    "and store the results in variables. Then print the data in the following format by calling the\n",
    "variables:\n",
    "First variable is __ & second variable is __.\n",
    "Addition: __ + __ = __\n",
    "Subtraction: __ - __ = __\n",
    "Multiplication: __ * __ = __\n",
    "Division: __ / __ = __\n"
   ]
  },
  {
   "cell_type": "code",
   "execution_count": 2,
   "id": "4d9b2fa7",
   "metadata": {},
   "outputs": [
    {
     "name": "stdout",
     "output_type": "stream",
     "text": [
      "Addition 15\n",
      "Subraction 5\n",
      "Multiplication 50\n",
      "Division 2.0\n"
     ]
    }
   ],
   "source": [
    "var1=10\n",
    "var2=5\n",
    "#1\n",
    "print('Addition',var1+var2)\n",
    "#2\n",
    "print('Subraction',var1-var2)\n",
    "#3\n",
    "print('Multiplication',var1*var2)\n",
    "#4\n",
    "print('Division',var1/var2)"
   ]
  },
  {
   "cell_type": "code",
   "execution_count": null,
   "id": "2d560566",
   "metadata": {},
   "outputs": [],
   "source": [
    "Q.2. What is the difference between the following operators:\n",
    "(i) ‘/’ & ‘//’\n",
    "(ii) ‘**’ & ‘^’\n",
    "\n",
    "\n",
    "Ans) The difference between the / and the // operators in Python is that the / operator performs classic division, while the // operator performs floor division12. Classic division returns a floating-point number that is the exact quotient of the operands, while floor division returns an integer that is the largest whole number less than or equal to the quotie"
   ]
  },
  {
   "cell_type": "code",
   "execution_count": null,
   "id": "4b4d22f3",
   "metadata": {},
   "outputs": [],
   "source": [
    "3. List the logical operators.\n",
    "\n",
    "Ans)and- True if both the operands are true-\n",
    "or-True if either of the operands is true-\n",
    "not-True if operand is false"
   ]
  },
  {
   "cell_type": "code",
   "execution_count": null,
   "id": "c08d8263",
   "metadata": {},
   "outputs": [],
   "source": [
    "Q.4. Explain right shift operator and left shift operator with examples.\n",
    "\n",
    "Ans)Bitwise right shift: Shifts the bits of the number to the right and fills 0 on voids left( fills 1 in the case of a negative number) as a result. Similar effect as of dividing the number with some power of two.\n",
    "\n",
    "Example 1:\n",
    "a = 10 = 0000 1010 (Binary)\n",
    "a >> 1 = 0000 0101 = 5\n",
    "\n",
    "Bitwise left shift: Shifts the bits of the number to the left and fills 0 on voids right as a result. Similar effect as of multiplying the number with some power of two.\n",
    "\n",
    "Example 1:\n",
    "a = 5 = 0000 0101 (Binary)\n",
    "a << 1 = 0000 1010 = 10\n",
    "a << 2 = 0001 0100 = 20"
   ]
  },
  {
   "cell_type": "markdown",
   "id": "fcf9719d",
   "metadata": {},
   "source": [
    "Q.5. Create a list containing int type data of length 15. Then write a code to check if 10 is\n",
    "present in the list or not"
   ]
  },
  {
   "cell_type": "code",
   "execution_count": 23,
   "id": "ba0ba9f0",
   "metadata": {},
   "outputs": [
    {
     "name": "stdout",
     "output_type": "stream",
     "text": [
      "Random list l  [81, 29, 70, 75, 39, 40, 47, 38, 48, 62, 79, 81, 69, 44, 11]\n",
      "Number 10 does not exists in list 'l'\n"
     ]
    }
   ],
   "source": [
    "#creating a list of length 15\n",
    "import random\n",
    "l=[]\n",
    "for i in range(15):\n",
    "    l.append(random.randrange(1,100))\n",
    "print('Random list l ',l)\n",
    "\n",
    "#Checking if 10 exists in l\n",
    "\n",
    "if 10 in l:\n",
    "    print(\"Number 10 exists in list 'l'\")\n",
    "else:\n",
    "    print(\"Number 10 does not exists in list 'l'\")   "
   ]
  },
  {
   "cell_type": "code",
   "execution_count": null,
   "id": "a88d9f62",
   "metadata": {},
   "outputs": [],
   "source": []
  }
 ],
 "metadata": {
  "kernelspec": {
   "display_name": "Python 3 (ipykernel)",
   "language": "python",
   "name": "python3"
  },
  "language_info": {
   "codemirror_mode": {
    "name": "ipython",
    "version": 3
   },
   "file_extension": ".py",
   "mimetype": "text/x-python",
   "name": "python",
   "nbconvert_exporter": "python",
   "pygments_lexer": "ipython3",
   "version": "3.9.12"
  }
 },
 "nbformat": 4,
 "nbformat_minor": 5
}
